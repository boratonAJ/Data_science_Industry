{
 "cells": [
  {
   "cell_type": "markdown",
   "metadata": {},
   "source": [
    "# Lesson 5 // Sentiment analysis\n",
    "\n",
    "---\n",
    "\n",
    "Sentiment analysis is the study of the emotional content of a body of text. When we read text, as humans, we infer the emotional content from the words used in the text, and some more subtle cues involving how these words are put together. Sentiment analysis tries to do the same thing algorithmically. \n",
    "\n",
    "One way of approaching the problem is to assess the sentiment of individual words, and then aggregate the sentiments of the words in a body of text in some way. For example, if we can classify whether each word is positive, negative, or neutral, we can count up the number of positive, negative, and neutral words in the document and define that as the sentiment of the document. This is just one way - a particularly simple way - of doing document-level sentiment analysis. \n",
    "\n",
    "When assessing the sentiment or emotional content of individual words, we usually make use of existing sentiment dictionaries (or \"lexicons\") that have already done this using some kind of manual classification. \n",
    "\n",
    "This notebook is an introduction to sentiment analysis, in which we will:\n",
    "\n",
    "1. Introduce the sentiment lexicons that come with **tidytext**.\n",
    "2. Look at how to aggregate sentiments over words to assess the sentiment of a longer sequence of text, like a tweet.\n",
    "3. See how to handle \"negation\" words like \"not\" that reverse the sentiment of the word that follows it - for example \"not good\".\n",
    "4. Use all of the above to analyze the emotional content of Donald Trump's tweets and examine how these have changed over time.\n",
    "\n",
    "[Chapter 2](tidytextmining.com/sentiment.html) of TMR covers sentiment analysis, and negation is handled in [Chapter 4](http://tidytextmining.com/ngrams.html#tokenizing-by-n-gram). Many of the ideas and some of the code in this workbook are drawn from these chapters. \n",
    "\n",
    "---"
   ]
  },
  {
   "cell_type": "markdown",
   "metadata": {},
   "source": [
    "First load the packages we need for this lesson:"
   ]
  },
  {
   "cell_type": "code",
   "execution_count": null,
   "metadata": {},
   "outputs": [],
   "source": [
    "library(tidyverse)\n",
    "library(tidytext)\n",
    "library(stringr)\n",
    "library(lubridate)\n",
    "\n",
    "options(repr.plot.width=4, repr.plot.height=3) # set plot size in the notebook"
   ]
  },
  {
   "cell_type": "markdown",
   "metadata": {},
   "source": [
    "Next, we load the .RData file containing the tweets and get the data into tidy text format. These are the same operations we did in the previous notebook, so go back to that notebook if you need more details about what is happening below."
   ]
  },
  {
   "cell_type": "code",
   "execution_count": null,
   "metadata": {
    "collapsed": true
   },
   "outputs": [],
   "source": [
    "load(\"data/trump-tweets.RData\")\n",
    "\n",
    "# make data a tibble\n",
    "tweets <- as.tibble(tweets)\n",
    "\n",
    "# parse the date and add some date related variables\n",
    "tweets <- tweets %>% \n",
    "  mutate(date = parse_datetime(str_sub(tweets$created_at,5,30), \"%b %d %H:%M:%S %z %Y\")) %>% \n",
    "  mutate(is_prez = (date > ymd(20161108))) %>%\n",
    "  mutate(month = make_date(year(date), month(date)))\n",
    "\n",
    "# turn into tidy text \n",
    "replace_reg <- \"https://t.co/[A-Za-z\\\\d]+|http://[A-Za-z\\\\d]+|&amp;|&lt;|&gt;|RT|https\"\n",
    "unnest_reg <- \"([^A-Za-z_\\\\d#@']|'(?![A-Za-z_\\\\d#@]))\"\n",
    "tidy_tweets <- tweets %>% \n",
    "  filter(!str_detect(text, \"^RT\")) %>% # remove retweets\n",
    "  mutate(text = str_replace_all(text, replace_reg, \"\")) %>% # remove stuff we don't want like links\n",
    "  unnest_tokens(word, text, token = \"regex\", pattern = unnest_reg) %>% # tokenize\n",
    "  filter(!word %in% stop_words$word, str_detect(word, \"[a-z]\")) %>% # remove stop words\n",
    "  select(date,word,is_prez,favorite_count,id_str,month) # choose the variables we need"
   ]
  },
  {
   "cell_type": "markdown",
   "metadata": {},
   "source": [
    "## Using sentiment lexicons\n",
    "\n",
    "The **tidytext** package comes with a three existing sentiment lexicons or dictionaries. These describe the emotional content of individual words in different formats, and have been put together manually.\n",
    "\n",
    "* *afinn*: a list of words given a positivity score between minus five (negative) and plus five (positive). The words have been manually labelled by Finn Arup Nielsen. See [here](https://finnaarupnielsen.wordpress.com/2011/03/16/afinn-a-new-word-list-for-sentiment-analysis/) and [here](http://www2.imm.dtu.dk/pubdb/views/publication_details.php?id=6010) for more details.\n",
    "* *bing*: a sentiment lexicon created by Bing Liu and collaborators. A list of words are labelled as \"positive\" or \"negative\". More details [here](https://www.cs.uic.edu/~liub/FBS/sentiment-analysis.html).\n",
    "* *nrc*: a sentiment lexicon put together by Saif Mohammad and Peter Turney using crowdsourcing on Amazon Mechanical Turk. Words are labelled as \"positive\" or \"negative\", but also as \"anger\", \"anticipation\", \"disgust\", \"fear\", \"joy\", \"sadness\", \"surprise\", or \"trust\". A word can receive multiple labels. More details [here](http://saifmohammad.com/WebPages/lexicons.html)."
   ]
  },
  {
   "cell_type": "code",
   "execution_count": null,
   "metadata": {},
   "outputs": [],
   "source": [
    "get_sentiments(\"afinn\") %>% head(10)\n",
    "get_sentiments(\"bing\") %>% head(10)\n",
    "get_sentiments(\"nrc\") %>% head(10)"
   ]
  },
  {
   "cell_type": "markdown",
   "metadata": {},
   "source": [
    "Below we use the *bing* lexicon to add a new variable indicating whether each word in our `tidy_tweets` data frame is positive or negative. We use a left join here, which keeps *all* the words in `tidy_tweets`. Words appearing in our tweets but not in the *bing* lexicon will appear as `NA`. We rename these \"neutral\", but need to be a bit careful here. No sentiment lexicon contains all words, so some words that are *actually* positive or negative will be labelled as `NA` and hence \"neutral\". We can avoid this problem by using an inner join rather than a left join, by filtering out neutral words later on, or by just keeping in mind that \"neutral\" doesn't really mean \"neutral\".\n",
    "\n",
    "There's one last issue: in the *bing* lexicon the word \"trump\" is positive, which will obviously skew the sentiment of Trump's tweets, particularly bearing in mind he often tweets about himself! We (rather generously I think) manually recode the sentiment of this word to \"neutral\"."
   ]
  },
  {
   "cell_type": "code",
   "execution_count": null,
   "metadata": {},
   "outputs": [],
   "source": [
    "tidy_tweets <- tidy_tweets %>% \n",
    "  left_join(get_sentiments(\"bing\")) %>% # add sentiments (pos or neg)\n",
    "  select(word,sentiment,everything()) %>%\n",
    "  mutate(sentiment = ifelse(word == \"trump\", NA, sentiment)) %>% # \"trump\" is a positive word in the bing lexicon!\n",
    "  mutate(sentiment = ifelse(is.na(sentiment), \"neutral\", sentiment))"
   ]
  },
  {
   "cell_type": "markdown",
   "metadata": {},
   "source": [
    "Let's look at Trump's 20 most common positive words:"
   ]
  },
  {
   "cell_type": "code",
   "execution_count": null,
   "metadata": {},
   "outputs": [],
   "source": [
    "tidy_tweets %>%\n",
    "  filter(sentiment == \"positive\") %>%\n",
    "  count(word) %>%\n",
    "  arrange(desc(n)) %>%\n",
    "  filter(rank(desc(n)) <= 20) %>%\n",
    "  ggplot(aes(reorder(word,n),n)) + geom_col() + coord_flip() + xlab(\"\")"
   ]
  },
  {
   "cell_type": "markdown",
   "metadata": {},
   "source": [
    "and the 20 most common negative words:"
   ]
  },
  {
   "cell_type": "code",
   "execution_count": null,
   "metadata": {},
   "outputs": [],
   "source": [
    "tidy_tweets %>%\n",
    "  filter(sentiment == \"negative\") %>%\n",
    "  count(word) %>%\n",
    "  arrange(desc(n)) %>%\n",
    "  filter(rank(desc(n)) <= 20) %>%\n",
    "  ggplot(aes(reorder(word,n),n)) + geom_col() + coord_flip() + xlab(\"\")"
   ]
  },
  {
   "cell_type": "markdown",
   "metadata": {},
   "source": [
    "## Changes in sentiment over time\n",
    "\n",
    "Once we have attached sentiments to words in our data frame, we can analyze these in various ways. For example, we can examine trends in sentiment over time. Here we count the number of positive, negative and neutral words used each month and plot these. Because the neutral words dominate, its difficult to see any trends with them included (try this and see for yourself). We therefore remove the neutral words before plotting."
   ]
  },
  {
   "cell_type": "code",
   "execution_count": null,
   "metadata": {
    "collapsed": true
   },
   "outputs": [],
   "source": [
    "sentiments_per_month <- tidy_tweets %>%\n",
    "  group_by(month, sentiment) %>%\n",
    "  summarize(n = n()) "
   ]
  },
  {
   "cell_type": "code",
   "execution_count": null,
   "metadata": {},
   "outputs": [],
   "source": [
    "ggplot(filter(sentiments_per_month, sentiment != \"neutral\"), aes(x = month, y = n, fill = sentiment)) +\n",
    "  geom_col() "
   ]
  },
  {
   "cell_type": "markdown",
   "metadata": {},
   "source": [
    "There doesn't seem to be any very clear trend here, but the variation in the number of tweets made each month makes it difficult to see. We can improve the visualization by plotting the *proportion* of all words tweeted in a month that were positive or negative. The plot shows the raw proportions as well as smoothed versions of these. "
   ]
  },
  {
   "cell_type": "code",
   "execution_count": null,
   "metadata": {},
   "outputs": [],
   "source": [
    "sentiments_per_month <- sentiments_per_month %>% \n",
    "  left_join(sentiments_per_month %>% \n",
    "            group_by(month) %>% \n",
    "            summarise(total = sum(n))) %>%\n",
    "  mutate(freq = n/total) "
   ]
  },
  {
   "cell_type": "code",
   "execution_count": null,
   "metadata": {},
   "outputs": [],
   "source": [
    "sentiments_per_month %>% filter(sentiment != \"neutral\") %>%\n",
    "  ggplot(aes(x = month, y = freq, colour = sentiment)) +\n",
    "  geom_line() + \n",
    "  geom_smooth(aes(colour = sentiment))"
   ]
  },
  {
   "cell_type": "markdown",
   "metadata": {},
   "source": [
    "We can fit a simple linear model to check with the proportion of negative words has increased over time. Strictly speaking the linear model is not appropriate as the response is bounded to lie between 0 and 1 - you could try fitting e.g. a binomial GLM instead."
   ]
  },
  {
   "cell_type": "code",
   "execution_count": null,
   "metadata": {},
   "outputs": [],
   "source": [
    "model <- lm(freq ~ month, data = subset(sentiments_per_month, sentiment == \"negative\"))\n",
    "summary(model)"
   ]
  },
  {
   "cell_type": "markdown",
   "metadata": {},
   "source": [
    "## Aggregating sentiment over words\n",
    "\n",
    "So far we've looked at the sentiment of individual words. How can we assess the sentiment of longer sequences of text, like bigrams, sentences or entire tweets. One approach is to attach sentiments to each word in the longer sequence, and then add up the sentiments over words. This isn't the only way, but it is relatively easy to do and fits in nicely with the use of tidy text data. \n",
    "\n",
    "Suppose we want to analyze the sentiment of entire tweets. We'll measure the positivity of a tweet by the difference in the number of positive and negative words used in the tweet."
   ]
  },
  {
   "cell_type": "code",
   "execution_count": null,
   "metadata": {
    "collapsed": true
   },
   "outputs": [],
   "source": [
    "sentiments_per_tweet <- tidy_tweets %>%\n",
    "  group_by(id_str) %>%\n",
    "  summarize(net_sentiment = (sum(sentiment == \"positive\") - sum(sentiment == \"negative\")),\n",
    "            month = first(month))"
   ]
  },
  {
   "cell_type": "markdown",
   "metadata": {},
   "source": [
    "To see if the measure makes sense, let's have a look at the most negative tweets."
   ]
  },
  {
   "cell_type": "code",
   "execution_count": null,
   "metadata": {},
   "outputs": [],
   "source": [
    "tweets %>% \n",
    "    left_join(sentiments_per_tweet) %>% \n",
    "    arrange(net_sentiment) %>% \n",
    "    head(10) %>%\n",
    "    select(text, net_sentiment) "
   ]
  },
  {
   "cell_type": "markdown",
   "metadata": {},
   "source": [
    "And the most positive tweets:"
   ]
  },
  {
   "cell_type": "code",
   "execution_count": null,
   "metadata": {},
   "outputs": [],
   "source": [
    "tweets %>% \n",
    "  left_join(sentiments_per_tweet) %>% \n",
    "  arrange(desc(net_sentiment)) %>% \n",
    "    head(10) %>%\n",
    "  select(text, net_sentiment) "
   ]
  },
  {
   "cell_type": "markdown",
   "metadata": {},
   "source": [
    "We can also look at trends over time. The plot below shows the proportion of monthly tweets that were negative (i.e. where the number of negative words exceeded the number of positive ones)."
   ]
  },
  {
   "cell_type": "code",
   "execution_count": null,
   "metadata": {},
   "outputs": [],
   "source": [
    "sentiments_per_tweet %>%\n",
    "  group_by(month) %>%\n",
    "  summarize(prop_neg = sum(net_sentiment < 0) / n()) %>%\n",
    "  ggplot(aes(x = month, y = prop_neg)) +\n",
    "  geom_line() + geom_smooth()"
   ]
  },
  {
   "cell_type": "markdown",
   "metadata": {},
   "source": [
    " ## Dealing with negation\n",
    " \n",
    "One problem we haven't considered yet is what to do with terms like \"not good\", where a positive word is negated by the use of \"not\" before it. We need to reverse the sentiment of words that are preceded by negation words like not, never, *etc*.\n",
    " \n",
    "We'll do this in the context of a sentiment analysis on bigrams. We start by creating the bigrams, and separating the two words making up each bigram. This is the same code used in the previous notebook."
   ]
  },
  {
   "cell_type": "code",
   "execution_count": null,
   "metadata": {
    "collapsed": true
   },
   "outputs": [],
   "source": [
    "bigrams_separated  <- tweets %>%\n",
    "  filter(!str_detect(text, \"^RT\")) %>%\n",
    "  mutate(text = str_replace_all(text, replace_reg, \"\")) %>%\n",
    "  unnest_tokens(bigram, text, token = \"ngrams\", n = 2) %>%\n",
    "  separate(bigram, c(\"word1\", \"word2\"), sep = \" \")"
   ]
  },
  {
   "cell_type": "markdown",
   "metadata": {},
   "source": [
    "Then we use the *bing* sentiment dictionary to look up the sentiment of each word in each bigram. "
   ]
  },
  {
   "cell_type": "code",
   "execution_count": null,
   "metadata": {
    "collapsed": true
   },
   "outputs": [],
   "source": [
    "bigrams_separated <- bigrams_separated %>% \n",
    "    # add sentiment for word 1\n",
    "    left_join(get_sentiments(\"bing\"), by = c(word1 = \"word\")) %>%\n",
    "    rename(sentiment1 = sentiment) %>%\n",
    "    mutate(sentiment1 = ifelse(word1 == \"trump\", NA, sentiment1)) %>%\n",
    "    mutate(sentiment1 = ifelse(is.na(sentiment1), \"neutral\", sentiment1)) %>%\n",
    "    \n",
    "    # add sentiment for word 1\n",
    "    left_join(get_sentiments(\"bing\"), by = c(word2 = \"word\")) %>%\n",
    "    rename(sentiment2 = sentiment) %>%\n",
    "    mutate(sentiment2 = ifelse(word2 == \"trump\", NA, sentiment2)) %>%\n",
    "    mutate(sentiment2 = ifelse(is.na(sentiment2), \"neutral\", sentiment2)) %>%\n",
    "    select(month,word1,word2,sentiment1,sentiment2,everything())"
   ]
  },
  {
   "cell_type": "markdown",
   "metadata": {},
   "source": [
    "Now we need a list of words that we consider to be negation words. I'll use the following set, taken from TMR [Chapter 4](http://tidytextmining.com/ngrams.html), and show a few examples."
   ]
  },
  {
   "cell_type": "code",
   "execution_count": null,
   "metadata": {},
   "outputs": [],
   "source": [
    "negation_words <- c(\"not\", \"no\", \"never\", \"without\")\n",
    "\n",
    "# show a few\n",
    "filter(bigrams_separated, word1 %in% negation_words) %>% \n",
    "    head(10) %>% select(month, word1, word2, sentiment1, sentiment2) # for display purposes"
   ]
  },
  {
   "cell_type": "markdown",
   "metadata": {},
   "source": [
    "We now reverse the sentiment of `word2` whenever it is preceded by a negation word, and then add up the number of positive and negative words within a bigram and take the difference. That difference (a score from -2 to +2) is the sentiment of the bigram.\n",
    "\n",
    "We do this in two steps for illustrative purposes. First we reverse the sentiment of the second word in the bigram if the first one is a negation word. "
   ]
  },
  {
   "cell_type": "code",
   "execution_count": null,
   "metadata": {
    "collapsed": true
   },
   "outputs": [],
   "source": [
    "bigrams_separated <- bigrams_separated %>%\n",
    "\n",
    "    # create a variable that is the opposite of sentiment2\n",
    "    mutate(opp_sentiment2 = recode(sentiment2, \"positive\" = \"negative\",\n",
    "                                 \"negative\" = \"positive\",\n",
    "                                 \"neutral\" = \"neutral\")) %>%\n",
    "    \n",
    "    # reverse sentiment2 if word1 is a negation word\n",
    "    mutate(sentiment2 = ifelse(word1 %in% negation_words, opp_sentiment2, sentiment2)) %>%\n",
    "    \n",
    "    # remove the opposite sentiment variable, which we don't need any more\n",
    "    select(-opp_sentiment2)"
   ]
  },
  {
   "cell_type": "markdown",
   "metadata": {},
   "source": [
    "Next, we calculate the sentiment of each bigram and join up the words in the bigram again."
   ]
  },
  {
   "cell_type": "code",
   "execution_count": null,
   "metadata": {
    "collapsed": true
   },
   "outputs": [],
   "source": [
    "bigrams_separated <- bigrams_separated %>%\n",
    "  mutate(net_sentiment = (sentiment1 == \"positive\") + (sentiment2 == \"positive\") - \n",
    "              (sentiment1 == \"negative\") - (sentiment2 == \"negative\")) %>%\n",
    "  unite(bigram, word1, word2, sep = \" \", remove = FALSE)"
   ]
  },
  {
   "cell_type": "markdown",
   "metadata": {},
   "source": [
    "Below we show Trump's most common positive and negative bigrams. "
   ]
  },
  {
   "cell_type": "code",
   "execution_count": null,
   "metadata": {},
   "outputs": [],
   "source": [
    "bigrams_separated %>%\n",
    "  filter(net_sentiment > 0) %>% # get positive bigrams\n",
    "  count(bigram, sort = TRUE) %>%\n",
    "  filter(rank(desc(n)) < 20) %>%\n",
    "  ggplot(aes(reorder(bigram,n),n)) + geom_col() + coord_flip() + xlab(\"\")"
   ]
  },
  {
   "cell_type": "code",
   "execution_count": null,
   "metadata": {},
   "outputs": [],
   "source": [
    "bigrams_separated %>%\n",
    "  filter(net_sentiment < 0) %>% # get negative bigrams\n",
    "  count(bigram, sort = TRUE) %>%\n",
    "  filter(rank(desc(n)) < 20) %>%\n",
    "  ggplot(aes(reorder(bigram,n),n)) + geom_col() + coord_flip() + xlab(\"\")"
   ]
  },
  {
   "cell_type": "markdown",
   "metadata": {},
   "source": [
    "None of the most common negative bigrams have negated words in them but some that are slightly less frequently used do. Notice that the most frequently used bigram below is \"no wonder\" - which is not really negative, although you can see how, using the approach we have, it has ended up classified as such. Cases like these would need to be handled on an individual basis."
   ]
  },
  {
   "cell_type": "code",
   "execution_count": null,
   "metadata": {},
   "outputs": [],
   "source": [
    "bigrams_separated %>%\n",
    "    filter(net_sentiment < 0) %>% # get negative bigrams\n",
    "    filter(word1 %in% negation_words) %>% # get bigrams where first word is negation\n",
    "    count(bigram, sort = TRUE) %>%\n",
    "    filter(rank(desc(n)) < 20) %>%\n",
    "    ggplot(aes(reorder(bigram,n),n)) + geom_col() + coord_flip() + xlab(\"\")"
   ]
  },
  {
   "cell_type": "markdown",
   "metadata": {},
   "source": [
    "## Exercises\n",
    "\n",
    "1. Adverbs like \"very\", \"extremely\", \"totally\", \"really\", \"quite\", \"marginally\", *etc* increase or decrease the magnitude of the sentiment that follows them. Think of a few qualifiers and build these into the analyses above. What are they most positive and negative tweets once these qualifiers have been added? Does it affect the assessment of whether the sentiment of Trump's tweets has changed over time?\n",
    "2. Is there a relationship between the sentiment of a tweet and its popularity? Are negative tweets less popular than positive ones?\n",
    "3. Is there a \"day of the week\" effect on the number and sentiment of tweets? Are weekends any different to weekdays?\n",
    "4. Use the more nuanced *nrc* lexicon, which categorises words as \"anger\", \"fear\", *etc* to re-analyse Trump's tweets. Can you pick up anything interesting?\n",
    "5. Note the appearance of the bigrams \"miss usa\" and \"miss universe\" in the plot of most common negative bigrams in the notebook. This is a clear misinterpretation of \"miss\". How might you remove the ambiguity in these kinds of bigrams in a general way (either just think of a way or, better, implement it!)"
   ]
  }
 ],
 "metadata": {
  "kernelspec": {
   "display_name": "R",
   "language": "R",
   "name": "ir"
  },
  "language_info": {
   "codemirror_mode": "r",
   "file_extension": ".r",
   "mimetype": "text/x-r-source",
   "name": "R",
   "pygments_lexer": "r",
   "version": "3.4.0"
  }
 },
 "nbformat": 4,
 "nbformat_minor": 2
}
