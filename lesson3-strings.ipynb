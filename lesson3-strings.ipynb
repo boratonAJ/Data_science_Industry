{
 "cells": [
  {
   "cell_type": "markdown",
   "metadata": {},
   "source": [
    "# Lesson 3 // Working with text using the stringr package\n",
    "\n",
    "---\n",
    "Working with text can be difficult. Often data collected as text is unstructured, of variable length, and prone to differences in how it is collected. You can therefore expect to do rather more cleaning of text data before it is in a shape that is useful for analysis. \n",
    "\n",
    "This notebook is a minimal introduction to working with text using the **stringr** package, which has a lot of useful helpful functions for working with text. We also look at \"regular expressions\", a language for matching patterns in text that forms the basis for many of the functions in **stringr**.\n",
    "\n",
    "In this lesson we'll:\n",
    "\n",
    "1. Learn about writing strings, \"escaping\" certain characters with the backspace, and some basic functions like case conversion and string concatenation.\n",
    "2. Learn the basics of regular expressions, a powerful tool for matching patterns in strings.\n",
    "3. See how regular expressions can be used together with various **stringr** functions to do a number of useful things:\n",
    "    + detect which strings match a pattern\n",
    "    + extract the part of a string that matches a pattern\n",
    "    + replace the matched part of a string with a new string\n",
    "    + split up strings by some criterion\n",
    "---\n",
    "\n",
    "For further reading, I strongly recommend [this chapter](http://r4ds.had.co.nz/strings.html) in R4DS, which covers the **stringr** package in quite a bit more detail than I do here. If you are new to regular expressions, there are a number of excellent tutorials online. Start with [this one](https://regexone.com/), and further information is [here](http://www.python-course.eu/re.php) and [here](http://www.regular-expressions.info/tutorial.html). There are many good \"cheatsheets\" to help you as you go, for example [Pete Freitag's](http://www.petefreitag.com/cheatsheets/regex/). The bible of regular expressions is apparently [this book](https://www.amazon.com/dp/0596528124/), if you really want to get into it!\n"
   ]
  },
  {
   "cell_type": "markdown",
   "metadata": {},
   "source": [
    "First we load the packages we'll need for the notebook."
   ]
  },
  {
   "cell_type": "code",
   "execution_count": null,
   "metadata": {
    "collapsed": true
   },
   "outputs": [],
   "source": [
    "library(tidyverse)\n",
    "library(stringr)"
   ]
  },
  {
   "cell_type": "markdown",
   "metadata": {},
   "source": [
    "## String basics\n",
    "\n",
    "Below we enter a string and take a look at some basic information about the stored object."
   ]
  },
  {
   "cell_type": "code",
   "execution_count": null,
   "metadata": {},
   "outputs": [],
   "source": [
    "string <- \"This is a string\"\n",
    "string\n",
    "str(string)\n",
    "length(string) # note length is 1\n",
    "nchar(string) # \"length\" of the string, base R\n",
    "str_length(string) # \"length\" of the string, stringr"
   ]
  },
  {
   "cell_type": "markdown",
   "metadata": {},
   "source": [
    "Strings are created using single or double quotes. If we want to include a literal quotes within the string, we need to use `\\\"`. This is a common way of including symbols that have a special meaning in the context of strings (we'll see much more of this with regular expressions). Try pasting the following lines into R/RStudio - you'll see that `string` on its own prints out the string itself, not the printed representation of it (for which we need `writeLines`. "
   ]
  },
  {
   "cell_type": "code",
   "execution_count": null,
   "metadata": {},
   "outputs": [],
   "source": [
    "# \"Escaping\" the \" character\n",
    "string <- \"I told you \\\"This is a string\\\"\"\n",
    "string \n",
    "writeLines(string)"
   ]
  },
  {
   "cell_type": "markdown",
   "metadata": {},
   "source": [
    "If we escape certain characters that have a special meaning by putting a `\\` in front, how to we get a backslash character into a string? We have to escape the escape character!"
   ]
  },
  {
   "cell_type": "code",
   "execution_count": null,
   "metadata": {},
   "outputs": [],
   "source": [
    "writeLines(\"This is a \\ string\")\n",
    "writeLines(\"This is a \\\\ string\")"
   ]
  },
  {
   "cell_type": "markdown",
   "metadata": {},
   "source": [
    "There are a few othe \"special (meta)characters\" you need to remember:\n",
    "\n",
    "* `\\t` for \"tab\"\n",
    "* `\\r` for \"carriage return\"\n",
    "* `\\n` for \"new line\""
   ]
  },
  {
   "cell_type": "code",
   "execution_count": null,
   "metadata": {},
   "outputs": [],
   "source": [
    "# tab\n",
    "string <- \"This \\t is a \\nstring\"\n",
    "writeLines(string)\n",
    "\n",
    "# carriage return and new line\n",
    "string <- \"This is a string\\r\\nThis is another\"\n",
    "writeLines(string)"
   ]
  },
  {
   "cell_type": "markdown",
   "metadata": {},
   "source": [
    "We can combine strings with `str_c()`."
   ]
  },
  {
   "cell_type": "code",
   "execution_count": null,
   "metadata": {},
   "outputs": [],
   "source": [
    "str_c(\"x\", \"y\", sep = \",\")\n",
    "str_c(\"x\", \"y\", sep = \" and \")"
   ]
  },
  {
   "cell_type": "markdown",
   "metadata": {},
   "source": [
    "To extract parts of strings using their location in the string, we use `str_sub()`. The numbers passed as arguments to `str_sub()` indicate the start and end position of the part we want to extract. Negative numbers are counted backwards from the end of the word."
   ]
  },
  {
   "cell_type": "code",
   "execution_count": null,
   "metadata": {},
   "outputs": [],
   "source": [
    "web <- \"http://ewn.co.za/\"\n",
    "# first four characters\n",
    "str_sub(web, 1, 4)\n",
    "# last six characters\n",
    "str_sub(web, -6, -1)\n",
    "# all but first and last characters\n",
    "str_sub(web, 2, -2)"
   ]
  },
  {
   "cell_type": "markdown",
   "metadata": {},
   "source": [
    "There are a few other useful basic things we can do with **stringr**. For example, we can change case. You need to be a bit careful here, because this conversion depends on your language settings (your [locale](http://r4ds.had.co.nz/strings.html#locales)). You can set this within the functions below. "
   ]
  },
  {
   "cell_type": "code",
   "execution_count": null,
   "metadata": {},
   "outputs": [],
   "source": [
    "# convert to upper case\n",
    "str_to_upper(\"This is a string\")"
   ]
  },
  {
   "cell_type": "code",
   "execution_count": null,
   "metadata": {},
   "outputs": [],
   "source": [
    "# convert to lower case\n",
    "str_to_lower(\"This Is A StrinG\")"
   ]
  },
  {
   "cell_type": "markdown",
   "metadata": {},
   "source": [
    "We can also remove whitespace at the beginning and end of a string."
   ]
  },
  {
   "cell_type": "code",
   "execution_count": null,
   "metadata": {},
   "outputs": [],
   "source": [
    "str_trim(\"  This is a string  \\t\\r\\n\")"
   ]
  },
  {
   "cell_type": "markdown",
   "metadata": {},
   "source": [
    "Note that with all these functions, if we have a vector of strings, the functions are applied to each element of the vector. "
   ]
  },
  {
   "cell_type": "code",
   "execution_count": null,
   "metadata": {},
   "outputs": [],
   "source": [
    "str_to_upper(c(\"String number 1 \", \"String number 2\", \"String 3\"))"
   ]
  },
  {
   "cell_type": "markdown",
   "metadata": {},
   "source": [
    "## Matching patterns with regular expressions\n",
    "\n",
    "A regular expression is a formal language that is very useful in describing patterns in strings. "
   ]
  },
  {
   "cell_type": "code",
   "execution_count": null,
   "metadata": {
    "collapsed": true
   },
   "outputs": [],
   "source": [
    "x <- c(\"apple\", \"banana\", \"pear\", \"28.50\", \"Probability 0\")"
   ]
  },
  {
   "cell_type": "markdown",
   "metadata": {},
   "source": [
    "> Note! **stringr** has very useful functions `str_view()` and `str_view_all()` that allow you to view a HTML rendering of a pattern matched by a regular expression. This would show the whole string, with a grey block indicating the match. Unfortunately, these functions don't work in jupyter notebook, so I've used `str_extract()` and `str_extract_all()` below. These functions don't do the same thing as `str_view()`: they just *extract* the matched part of the string. This is much less illustrative of what's going on, so I suggest you rather do this next section in R, and replace `str_extract()` with `str_view()` (I've already done this in the .Rmd file [here](https://github.com/iandurbach/datasci-fi)) "
   ]
  },
  {
   "cell_type": "markdown",
   "metadata": {},
   "source": [
    "The basic idea is to match the pattern given in the regular expression. The simplest case is where we want to match an exact string. Note that the default behaviour is to find only the first match. We can get all matches with `str_extract_all()`, and many **stringr** functions have `_all()` variants. We'll pick this point up again later, once we're more familiar with regular expressions. "
   ]
  },
  {
   "cell_type": "code",
   "execution_count": null,
   "metadata": {},
   "outputs": [],
   "source": [
    "str_extract(x, \"a\")\n",
    "str_extract(x, \"ap\")\n",
    "# note 'a' is short for 'regex(\"a\")'\n",
    "str_extract(x, regex(\"a\"))"
   ]
  },
  {
   "cell_type": "markdown",
   "metadata": {},
   "source": [
    "### Special metacharacters: `\\d`, `\\w`, `\\s`\n",
    "\n",
    "There are a number of \"special (meta)characters\" that can be used in regular expressions to match a certain type of character. Commons ones include:\n",
    "\n",
    "* `\\d`: any digit\n",
    "* `\\w`: any alphanumeric character\n",
    "* `\\s`: any whitespace\n",
    "\n",
    "These can all be negated by capitalizing them:\n",
    "\n",
    "* `\\D`: any NON-digit\n",
    "* `\\W`: any NON-alphanumeric character\n",
    "* `\\S`: any NON-whitespace\n",
    "\n",
    "Note that below we need to add a second backslash. The reason you need two is because both the string parser used by **stringr** and the regular expression itself support escapes. Therefore, `\\\\d` (for example) is parsed to `\\d` by the string parser and then interpreted by the regular expression parser. This is just a feature of **stringr**: you need a add a second backslash to anything that you would ordinarily use one for in a regular expression. "
   ]
  },
  {
   "cell_type": "code",
   "execution_count": null,
   "metadata": {},
   "outputs": [],
   "source": [
    "str_extract(x, \"\\\\d\")\n",
    "str_extract(x, \"\\\\w\")\n",
    "str_extract(x, \"\\\\s\")"
   ]
  },
  {
   "cell_type": "code",
   "execution_count": null,
   "metadata": {},
   "outputs": [],
   "source": [
    "str_extract(x, \"\\\\D\")\n",
    "str_extract(x, \"\\\\W\")\n",
    "str_extract(x, \"\\\\S\")"
   ]
  },
  {
   "cell_type": "markdown",
   "metadata": {},
   "source": [
    "### \"Or\" matches with `[]`, matching anything with `.`, and negation with `^`\n",
    "\n",
    "If we want to match a particular string, say \"ap\", we use that as the regular expression. "
   ]
  },
  {
   "cell_type": "code",
   "execution_count": null,
   "metadata": {},
   "outputs": [],
   "source": [
    "str_extract(x, \"ap\")"
   ]
  },
  {
   "cell_type": "markdown",
   "metadata": {},
   "source": [
    "If we want to match any a *or* p, we use `[ap]`. The square brackets indicate an *or* kind of match. Note that below reads \"match a single letter that is either *a* or *p*."
   ]
  },
  {
   "cell_type": "code",
   "execution_count": null,
   "metadata": {},
   "outputs": [],
   "source": [
    "str_extract(x, \"[ap]\")"
   ]
  },
  {
   "cell_type": "markdown",
   "metadata": {},
   "source": [
    "We can use the square brackets notation to build up a more complex pattern. For example below we look for two letters, the first either *a* or *p*, the second either *p* or *e*."
   ]
  },
  {
   "cell_type": "code",
   "execution_count": null,
   "metadata": {},
   "outputs": [],
   "source": [
    "str_extract(x, \"[ap][pe]\")"
   ]
  },
  {
   "cell_type": "markdown",
   "metadata": {},
   "source": [
    "A useful special character here is `.`, which indicates \"anything\". Note that below we match a two-letter pattern \"*a* followed by anything\"."
   ]
  },
  {
   "cell_type": "code",
   "execution_count": null,
   "metadata": {},
   "outputs": [],
   "source": [
    "str_extract(x, \"a.\")"
   ]
  },
  {
   "cell_type": "markdown",
   "metadata": {},
   "source": [
    "Another useful special character is `^`, which denotes negation when used within square brackets (it can also mean the beginning of a string, when not within brackets, see below!). Below we match a two-letter sequence, the first letter anything but *b*, the second letter an *a*."
   ]
  },
  {
   "cell_type": "code",
   "execution_count": null,
   "metadata": {},
   "outputs": [],
   "source": [
    "str_extract(x, \"[^b]a\")"
   ]
  },
  {
   "cell_type": "markdown",
   "metadata": {},
   "source": [
    "Finally, some other useful tools are `[A-Z]` (any capital letter), `[a-z]` (any lowercase letter), `[0-9]` any digit. These can also be combined."
   ]
  },
  {
   "cell_type": "code",
   "execution_count": null,
   "metadata": {},
   "outputs": [],
   "source": [
    "str_extract(x, \"[A-Z]\")\n",
    "str_extract(x, \"[a-z]\")\n",
    "str_extract(x, \"[0-9]\")\n",
    "str_extract(x, \"[A-Za-z0-9]\")"
   ]
  },
  {
   "cell_type": "markdown",
   "metadata": {},
   "source": [
    "### Matching repetitions\n",
    "\n",
    "We've looked in fair detail at various ways of matching one or two characters. We can extend these methods to longer patterns, but this will quickly become unwieldy if we need to write out all the possibile options that each character can take on. Some important tools allow us to specify pattern **repetitions**, allowing us to express lengthier pattern concisely. \n",
    "\n",
    "Suppose we wanted to match a sequence of 3 alphanumeric characters. We could say (the long way),"
   ]
  },
  {
   "cell_type": "code",
   "execution_count": null,
   "metadata": {},
   "outputs": [],
   "source": [
    "str_extract(x, \"\\\\w\\\\w\\\\w\")"
   ]
  },
  {
   "cell_type": "markdown",
   "metadata": {},
   "source": [
    "Or we can use curly braces to specify the number of matches we want:"
   ]
  },
  {
   "cell_type": "code",
   "execution_count": null,
   "metadata": {},
   "outputs": [],
   "source": [
    "str_extract(x, \"\\\\w{3}\")"
   ]
  },
  {
   "cell_type": "markdown",
   "metadata": {},
   "source": [
    "This gives us considerable flexibility. For example:"
   ]
  },
  {
   "cell_type": "code",
   "execution_count": null,
   "metadata": {},
   "outputs": [],
   "source": [
    "str_extract(x, \"\\\\w{2,3}\") # any alphanum between 2 and 3 times\n",
    "str_extract(x, \"\\\\w{2,}\") # any alphanum at least 2 \n",
    "str_extract(x, \"[an]{2}\") # two characters, each of which can be a a or n"
   ]
  },
  {
   "cell_type": "markdown",
   "metadata": {},
   "source": [
    "Three other tools assist with controlling how many times a pattern matches. These are:\n",
    "\n",
    "* `+`: one or more matches\n",
    "* `*`: zero or more matches\n",
    "* `?`: zero or one match\n",
    "\n",
    "These special characters are always applied *after* the pattern they refer to.\n",
    "\n",
    "The `+` denotes one or more matches. For example `a+` matches one or more `a`'s, `[abc]+` matches one or more of any `a`, `b`, or `c`. "
   ]
  },
  {
   "cell_type": "code",
   "execution_count": null,
   "metadata": {},
   "outputs": [],
   "source": [
    "str_extract(x, \"a[na]+\")"
   ]
  },
  {
   "cell_type": "markdown",
   "metadata": {},
   "source": [
    "A `*` denotes *zero* or more matches. "
   ]
  },
  {
   "cell_type": "code",
   "execution_count": null,
   "metadata": {},
   "outputs": [],
   "source": [
    "str_extract(x, \"a[na]*\")"
   ]
  },
  {
   "cell_type": "markdown",
   "metadata": {},
   "source": [
    "Finally, the `?` metacharacter matches either zero or one of the preceding character or group, and indicates an \"optional\" character that is particularly useful in distinguising between different word spelling. For example, the pattern `ab?c` indicates that the `b` is optional and will thus match both `abc` and `ac`."
   ]
  },
  {
   "cell_type": "code",
   "execution_count": null,
   "metadata": {},
   "outputs": [],
   "source": [
    "str_extract(\"apple\", \"ap?p\")\n",
    "str_extract(\"apple\", \"an?p\")"
   ]
  },
  {
   "cell_type": "markdown",
   "metadata": {},
   "source": [
    "### Specifying the start and end of a string\n",
    "\n",
    "The start of a string can be matched with `^`, the end with `$`"
   ]
  },
  {
   "cell_type": "code",
   "execution_count": null,
   "metadata": {},
   "outputs": [],
   "source": [
    "str_extract(x, \"^a\")\n",
    "str_extract(x, \"a$\")\n",
    "str_extract(x, \"^apple$\")"
   ]
  },
  {
   "cell_type": "markdown",
   "metadata": {},
   "source": [
    "### Specifying groupings\n",
    "\n",
    "Parentheses can be used in a similar way to mathematical operations, to specify natural groupings and indicate precedence for certain operations over others."
   ]
  },
  {
   "cell_type": "code",
   "execution_count": null,
   "metadata": {},
   "outputs": [],
   "source": [
    "str_extract(\"I love cats\", \"I love (cats|dogs)\")\n",
    "str_extract(\"I love birds\", \"I love (cats|dogs)\")\n",
    "str_extract(\"I love dogs\", \"I love cats|dogs\")"
   ]
  },
  {
   "cell_type": "markdown",
   "metadata": {},
   "source": [
    "## Other useful **stringr** functions\n",
    "\n",
    "The previous section gives you a number of ways of using regular expressions to match patterns. These use the language of regular expressions, and thus aren't really R-dependent. This section is about using the patterns that you extract to do further useful things. The functions that we discuss in this section are all **stringr** functions."
   ]
  },
  {
   "cell_type": "markdown",
   "metadata": {},
   "source": [
    "### Determine which strings match a pattern: `str_detect()`\n",
    "\n",
    "The `str_detect()` function can be used to determine whether an input string contains a specified pattern. Where the input is a vector, `str_detect()` checks whether each element in turn contains the pattern i.e. it returns a logical vector of the same length as the input."
   ]
  },
  {
   "cell_type": "code",
   "execution_count": null,
   "metadata": {},
   "outputs": [],
   "source": [
    "str_detect(x, \"\\\\d\")"
   ]
  },
  {
   "cell_type": "markdown",
   "metadata": {},
   "source": [
    "A useful way to use `str_detect()` is to extract those elements of an input vector that do (or don't) match some pattern."
   ]
  },
  {
   "cell_type": "code",
   "execution_count": null,
   "metadata": {},
   "outputs": [],
   "source": [
    "# elements of x containing a digit\n",
    "x[str_detect(x, \"\\\\d\")]\n",
    "# elements of x not containing a digit\n",
    "x[!str_detect(x, \"\\\\d\")]"
   ]
  },
  {
   "cell_type": "markdown",
   "metadata": {},
   "source": [
    "Rather than the above, **stringr** provides a useful wrapper function `str_subset()` that extracts the elements of *x* that match a given pattern."
   ]
  },
  {
   "cell_type": "code",
   "execution_count": null,
   "metadata": {},
   "outputs": [],
   "source": [
    "# gives same result as `x[str_detect(x, \"\\\\d\")]`\n",
    "str_subset(x, \"\\\\d\")\n",
    "# extracts indices of elements matching pattern\n",
    "str_which(x, \"\\\\d\")"
   ]
  },
  {
   "cell_type": "markdown",
   "metadata": {},
   "source": [
    "Another useful helper function is `str_count()`, which counts up the number of times a pattern is matched in a string or vector of strings."
   ]
  },
  {
   "cell_type": "code",
   "execution_count": null,
   "metadata": {},
   "outputs": [],
   "source": [
    "# number of digits in each element of x\n",
    "str_count(x, \"\\\\d\")"
   ]
  },
  {
   "cell_type": "markdown",
   "metadata": {},
   "source": [
    "### Extract content of matches: `str_extract()` and `str_extract_all()`\n",
    "\n",
    "The `str_extract()` function extracts the actual text of a match."
   ]
  },
  {
   "cell_type": "code",
   "execution_count": null,
   "metadata": {},
   "outputs": [],
   "source": [
    "str_extract(x, \"a[nb]\")"
   ]
  },
  {
   "cell_type": "markdown",
   "metadata": {},
   "source": [
    "Note that this just returns the *first* match. If we want to return *all* matches, we need to use `str_extract_all()`."
   ]
  },
  {
   "cell_type": "code",
   "execution_count": null,
   "metadata": {},
   "outputs": [],
   "source": [
    "str_extract_all(x, \"a[nb]\")"
   ]
  },
  {
   "cell_type": "markdown",
   "metadata": {},
   "source": [
    "### Replacing matches: `str_replace()` and `str_replace_all()`\n",
    "\n",
    "One thing we often want to do is replace a matched pattern with another string. We do this using `str_replace()` and `str_replace_all()`."
   ]
  },
  {
   "cell_type": "code",
   "execution_count": null,
   "metadata": {},
   "outputs": [],
   "source": [
    "str_replace(x,\"[aeiou]\",\"-\")\n",
    "str_replace_all(x,\"[aeiou]\",\"-\")"
   ]
  },
  {
   "cell_type": "markdown",
   "metadata": {},
   "source": [
    "### Split a string based on a match: `str_split()`\n",
    "\n",
    "Finally, we can split a string up by specifying some separating pattern. The examples below use, respectively, a single space, the word \"a\", and a new line with carriage return to specify breakpoints."
   ]
  },
  {
   "cell_type": "code",
   "execution_count": null,
   "metadata": {},
   "outputs": [],
   "source": [
    "str_split(\"This is a string\", \" \")\n",
    "str_split(\"This is a string\", \"\\\\sa\\\\s\")\n",
    "str_split(\"This is a string\\r\\nThis is another\", \"\\r\\n\")"
   ]
  },
  {
   "cell_type": "markdown",
   "metadata": {},
   "source": [
    "## Exercises\n",
    "\n",
    "1. Do the regular expression tutorial at https://regexone.com/\n",
    "2. All of the exercises in [Chapter 14](http://r4ds.had.co.nz/strings.html) of R4DS are good, and doing them all would be a great way of learning all about **stringr**. Depending on how much time you have, a good selection of exercises is:\n",
    " + 14.3.2.1\n",
    " + 14.3.3.1\n",
    " + 14.3.4.1\n",
    " + 14.3.5.1\n",
    " + 14.4.2\n",
    " + 14.4.5.1 "
   ]
  }
 ],
 "metadata": {
  "kernelspec": {
   "display_name": "R",
   "language": "R",
   "name": "ir"
  },
  "language_info": {
   "codemirror_mode": "r",
   "file_extension": ".r",
   "mimetype": "text/x-r-source",
   "name": "R",
   "pygments_lexer": "r",
   "version": "3.4.0"
  }
 },
 "nbformat": 4,
 "nbformat_minor": 2
}
